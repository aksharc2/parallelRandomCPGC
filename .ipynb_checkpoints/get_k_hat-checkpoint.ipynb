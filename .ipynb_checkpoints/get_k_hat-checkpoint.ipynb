{
 "cells": [
  {
   "cell_type": "markdown",
   "id": "b57b706e",
   "metadata": {},
   "source": [
    "\n",
    "This script can provide the initial value of $\\hat{k}$ and generate a plot to comprare the progression of $\\hat{k}$ with CPGC and FM[1].\n",
    "\n",
    "## References\n",
    "\n",
    "[1] Tomás Feder and Rajeev Motwani. 1991. Clique partitions, graph compression and speeding-up algorithms. In Proceedings of the twenty-third annual ACM symposium on Theory of Computing (STOC '91). Association for Computing Machinery, New York, NY, USA, 123–133. [Link to paper](https://doi.org/10.1145/103418.103424).\n"
   ]
  },
  {
   "cell_type": "code",
   "execution_count": 23,
   "id": "9b6f0838",
   "metadata": {},
   "outputs": [],
   "source": [
    "import matplotlib.pyplot as plt\n",
    "import math"
   ]
  },
  {
   "cell_type": "code",
   "execution_count": 17,
   "id": "f78a1d9a",
   "metadata": {},
   "outputs": [],
   "source": [
    "def get_k(n, d, de): # takes nodes n, density d, and delta de.\n",
    "    m_max = n**2\n",
    "    m = d * m_max\n",
    "    t = 2 * m_max\n",
    "#     de = \n",
    "    return math.floor((de*math.log2(n))/math.log2((2*n**2)/(d*n**2)))"
   ]
  },
  {
   "cell_type": "markdown",
   "id": "8e3ad82e",
   "metadata": {},
   "source": [
    "Use the commands below to check what would be the value of $\\hat{k}$ for graph $G(U,W,E)$, where $U$ and $W$ are the left and right partition of the graph $G$ and $E$ is the set of edges for different density and $\\delta$.\n",
    "In the following code, $n = |U| = |W|$, d is  density, where density of 1 means 100% dense (a complete graph) and de is $\\delta$.\n"
   ]
  },
  {
   "cell_type": "code",
   "execution_count": 24,
   "id": "fc6d0304",
   "metadata": {},
   "outputs": [
    {
     "name": "stdout",
     "output_type": "stream",
     "text": [
      "starting hat_k =  6\n"
     ]
    }
   ],
   "source": [
    "n = 1024 # number of vertices in each parition\n",
    "d = 0.8 # density of the graph from 0 to 1\n",
    "de = 0.8 # delta parameter used in the algorithm.\n",
    "\n",
    "initial_k = get_k(n, d, de)\n",
    "print(\"starting hat_k = \", initial_k)"
   ]
  },
  {
   "cell_type": "code",
   "execution_count": 20,
   "id": "dd38340e",
   "metadata": {},
   "outputs": [],
   "source": [
    "def get_k_with_m(n, m, d, de): # takes nodes n, density d, and delta de.\n",
    "\n",
    "    return math.floor((de*math.log2(n))/math.log2((2*n**2)/(d*m)))"
   ]
  },
  {
   "cell_type": "code",
   "execution_count": 21,
   "id": "cee70162",
   "metadata": {},
   "outputs": [],
   "source": [
    "m = n**2\n",
    "I_k = get_k_with_m(n, m, d, de)\n",
    "change_in_k = []\n",
    "CP_k = []\n",
    "gamma = math.floor(n/initial_k)\n",
    "for i in range(0, gamma):\n",
    "    if m > 0:\n",
    "        k = get_k_with_m(n, m, d, de)\n",
    "        m = m - (k*n)\n",
    "        CP_k.append(I_k)\n",
    "        change_in_k.append(k)\n",
    "    else:\n",
    "        break"
   ]
  },
  {
   "cell_type": "code",
   "execution_count": 22,
   "id": "5040b6e2",
   "metadata": {},
   "outputs": [
    {
     "data": {
      "image/png": "[encoded data removed]",
      "text/plain": [
       "<Figure size 450x270 with 1 Axes>"
      ]
     },
     "metadata": {},
     "output_type": "display_data"
    }
   ],
   "source": [
    "f, axes = plt.subplots(constrained_layout=True, figsize=[4.5, 2.7])\n",
    "plt.plot(change_in_k, lw = 2, label = 'FM', c='grey', ls = '--')\n",
    "plt.plot(CP_k, lw = 2, label = 'Ours', c= 'k', alpha = 0.85)\n",
    "plt.xlabel('Iterations', fontsize=11, weight = 'bold')\n",
    "plt.ylabel('$\\hat{k}$', fontsize=11, weight = 'bold')\n",
    "#     plt.title(f'For {d}% density', fontsize=11, weight = 'bold')\n",
    "plt.xticks(fontsize=11, weight = 'bold')\n",
    "plt.yticks(fontsize=11, weight = 'bold')\n",
    "plt.legend(ncol = 6, fontsize=11)\n",
    "# plt.ylim(0,12)\n",
    "plt.savefig(f'big_O.pdf', dpi=300)\n",
    "plt.show()"
   ]
  },
  {
   "cell_type": "code",
   "execution_count": null,
   "id": "b644f2dd",
   "metadata": {},
   "outputs": [],
   "source": []
  }
 ],
 "metadata": {
  "kernelspec": {
   "display_name": "Python 3 (ipykernel)",
   "language": "python",
   "name": "python3"
  },
  "language_info": {
   "codemirror_mode": {
    "name": "ipython",
    "version": 3
   },
   "file_extension": ".py",
   "mimetype": "text/x-python",
   "name": "python",
   "nbconvert_exporter": "python",
   "pygments_lexer": "ipython3",
   "version": "3.9.13"
  }
 },
 "nbformat": 4,
 "nbformat_minor": 5
}
